{
 "cells": [
  {
   "cell_type": "code",
   "execution_count": 1,
   "metadata": {},
   "outputs": [],
   "source": [
    "import matplotlib.pyplot as plt\n",
    "import pandas as pd\n",
    "import random\n",
    "import spacy\n",
    "\n",
    "from gensim import models, corpora\n",
    "from gensim import similarities\n",
    "from gensim.models.coherencemodel import CoherenceModel\n",
    "from wordcloud import WordCloud"
   ]
  },
  {
   "cell_type": "code",
   "execution_count": 2,
   "metadata": {},
   "outputs": [],
   "source": [
    "lda_model = models.LdaModel.load(\"lda_model.gensim\")"
   ]
  },
  {
   "cell_type": "code",
   "execution_count": 3,
   "metadata": {},
   "outputs": [],
   "source": [
    "dictionary = corpora.Dictionary.load(\"lda_dictionary.gensim\")"
   ]
  },
  {
   "cell_type": "code",
   "execution_count": 4,
   "metadata": {},
   "outputs": [],
   "source": [
    "corpus_bow = corpora.MmCorpus(\"lda_corpus.mm\")  # Load corpus"
   ]
  },
  {
   "cell_type": "code",
   "execution_count": 5,
   "metadata": {},
   "outputs": [
    {
     "data": {
      "text/plain": [
       "31584"
      ]
     },
     "execution_count": 5,
     "metadata": {},
     "output_type": "execute_result"
    }
   ],
   "source": [
    "len(dictionary)"
   ]
  },
  {
   "cell_type": "code",
   "execution_count": 6,
   "metadata": {},
   "outputs": [
    {
     "data": {
      "text/plain": [
       "[(0,\n",
       "  '0.027*\"family\" + 0.015*\"child\" + 0.013*\"life\" + 0.012*\"tell\" + 0.012*\"mother\" + 0.011*\"father\" + 0.011*\"day\" + 0.011*\"old\" + 0.011*\"son\" + 0.010*\"die\"'),\n",
       " (1,\n",
       "  '0.023*\"film\" + 0.018*\"movie\" + 0.014*\"star\" + 0.014*\"music\" + 0.012*\"fan\" + 0.011*\"play\" + 0.010*\"book\" + 0.010*\"character\" + 0.009*\"song\" + 0.009*\"tv\"'),\n",
       " (2,\n",
       "  '0.020*\"water\" + 0.011*\"people\" + 0.011*\"report\" + 0.011*\"ship\" + 0.011*\"oil\" + 0.010*\"fire\" + 0.010*\"storm\" + 0.009*\"area\" + 0.007*\"gas\" + 0.007*\"state\"'),\n",
       " (3,\n",
       "  '0.013*\"country\" + 0.010*\"military\" + 0.010*\"russian\" + 0.010*\"official\" + 0.009*\"government\" + 0.009*\"nuclear\" + 0.008*\"israeli\" + 0.007*\"international\" + 0.007*\"leader\" + 0.006*\"talk\"'),\n",
       " (4,\n",
       "  '0.021*\"police\" + 0.013*\"charge\" + 0.013*\"court\" + 0.013*\"case\" + 0.012*\"tell\" + 0.012*\"report\" + 0.010*\"authority\" + 0.010*\"arrest\" + 0.009*\"accord\" + 0.008*\"officer\"'),\n",
       " (5,\n",
       "  '0.026*\"think\" + 0.023*\"know\" + 0.020*\"people\" + 0.016*\"go\" + 0.015*\"want\" + 0.014*\"thing\" + 0.012*\"good\" + 0.012*\"get\" + 0.011*\"way\" + 0.010*\"come\"'),\n",
       " (6,\n",
       "  '0.016*\"drug\" + 0.015*\"study\" + 0.011*\"use\" + 0.010*\"find\" + 0.009*\"test\" + 0.008*\"research\" + 0.008*\"food\" + 0.007*\"high\" + 0.007*\"human\" + 0.006*\"increase\"'),\n",
       " (7,\n",
       "  '0.059*\"child\" + 0.056*\"school\" + 0.038*\"student\" + 0.027*\"gun\" + 0.019*\"parent\" + 0.016*\"young\" + 0.016*\"kid\" + 0.012*\"education\" + 0.012*\"college\" + 0.012*\"girl\"'),\n",
       " (8,\n",
       "  '0.024*\"attack\" + 0.019*\"kill\" + 0.016*\"military\" + 0.014*\"force\" + 0.013*\"group\" + 0.011*\"people\" + 0.011*\"official\" + 0.010*\"security\" + 0.010*\"government\" + 0.009*\"report\"'),\n",
       " (9,\n",
       "  '0.019*\"vote\" + 0.015*\"state\" + 0.014*\"election\" + 0.013*\"president\" + 0.012*\"campaign\" + 0.011*\"party\" + 0.010*\"political\" + 0.009*\"candidate\" + 0.009*\"bill\" + 0.007*\"voter\"'),\n",
       " (10,\n",
       "  '0.012*\"pay\" + 0.011*\"money\" + 0.011*\"company\" + 0.010*\"cost\" + 0.009*\"business\" + 0.008*\"work\" + 0.008*\"country\" + 0.008*\"new\" + 0.008*\"government\" + 0.007*\"price\"'),\n",
       " (11,\n",
       "  '0.025*\"car\" + 0.014*\"flight\" + 0.014*\"plane\" + 0.011*\"space\" + 0.010*\"passenger\" + 0.010*\"driver\" + 0.010*\"crash\" + 0.009*\"fly\" + 0.008*\"drive\" + 0.007*\"airport\"'),\n",
       " (12,\n",
       "  '0.013*\"use\" + 0.011*\"file\" + 0.010*\"x\" + 0.008*\"system\" + 0.007*\"new\" + 0.007*\"program\" + 0.007*\"mail\" + 0.007*\"run\" + 0.006*\"user\" + 0.006*\"image\"'),\n",
       " (13,\n",
       "  '0.007*\"good\" + 0.005*\"look\" + 0.005*\"day\" + 0.004*\"light\" + 0.004*\"art\" + 0.004*\"new\" + 0.004*\"world\" + 0.004*\"work\" + 0.004*\"bike\" + 0.003*\"way\"'),\n",
       " (14,\n",
       "  '0.015*\"law\" + 0.009*\"right\" + 0.008*\"case\" + 0.008*\"issue\" + 0.007*\"public\" + 0.007*\"government\" + 0.007*\"claim\" + 0.006*\"question\" + 0.006*\"state\" + 0.006*\"statement\"'),\n",
       " (15,\n",
       "  '0.024*\"city\" + 0.011*\"area\" + 0.010*\"local\" + 0.009*\"building\" + 0.009*\"hotel\" + 0.008*\"place\" + 0.008*\"town\" + 0.007*\"people\" + 0.007*\"park\" + 0.006*\"live\"'),\n",
       " (16,\n",
       "  '0.023*\"doctor\" + 0.022*\"health\" + 0.021*\"patient\" + 0.018*\"medical\" + 0.017*\"care\" + 0.017*\"hospital\" + 0.013*\"treatment\" + 0.011*\"disease\" + 0.010*\"case\" + 0.010*\"people\"'),\n",
       " (17,\n",
       "  '0.017*\"people\" + 0.017*\"government\" + 0.015*\"country\" + 0.010*\"right\" + 0.009*\"protest\" + 0.009*\"group\" + 0.008*\"political\" + 0.007*\"leader\" + 0.006*\"human\" + 0.006*\"violence\"'),\n",
       " (18,\n",
       "  '0.089*\"woman\" + 0.043*\"man\" + 0.028*\"black\" + 0.019*\"white\" + 0.016*\"dog\" + 0.015*\"wear\" + 0.014*\"sex\" + 0.014*\"video\" + 0.013*\"photo\" + 0.013*\"female\"'),\n",
       " (19,\n",
       "  '0.025*\"game\" + 0.022*\"team\" + 0.021*\"win\" + 0.017*\"play\" + 0.017*\"player\" + 0.011*\"season\" + 0.010*\"second\" + 0.009*\"match\" + 0.008*\"goal\" + 0.007*\"club\"')]"
      ]
     },
     "execution_count": 6,
     "metadata": {},
     "output_type": "execute_result"
    }
   ],
   "source": [
    "lda_model.print_topics()"
   ]
  },
  {
   "cell_type": "code",
   "execution_count": 8,
   "metadata": {},
   "outputs": [],
   "source": [
    "# topic names extracted from LLM :\n",
    "topic_names = {\n",
    "    0: \"Family & Relationships\",\n",
    "    1: \"Entertainment & Media\",\n",
    "    2: \"Environmental & Natural Disasters\",\n",
    "    3: \"International Affairs & Military\",\n",
    "    4: \"Crime & Law Enforcement\",\n",
    "    5: \"Thoughts & Opinions\",\n",
    "    6: \"Health & Drugs Research\",\n",
    "    7: \"Education & School Safety\",\n",
    "    8: \"War & Terrorism\",\n",
    "    9: \"Elections & Politics\",\n",
    "    10: \"Economy & Business\",\n",
    "    11: \"Transportation & Aviation\",\n",
    "    12: \"Technology & Computing\",\n",
    "    13: \"Art & Aesthetics\",\n",
    "    14: \"Law & Legal Issues\",\n",
    "    15: \"Urban Life & Infrastructure\",\n",
    "    16: \"Healthcare & Medicine\",\n",
    "    17: \"Social Movements & Protests\",\n",
    "    18: \"Gender & Identity\",\n",
    "    19: \"Sports & Competitions\"\n",
    "}"
   ]
  },
  {
   "cell_type": "code",
   "execution_count": null,
   "metadata": {},
   "outputs": [],
   "source": [
    "with open('input_all_articles.txt', 'r', encoding='utf8') as f:\n",
    "    articles = f.read().split('@delimiter')"
   ]
  },
  {
   "cell_type": "code",
   "execution_count": 21,
   "metadata": {},
   "outputs": [
    {
     "data": {
      "text/plain": [
       "' -- Children in war-ravaged Afghanistan are safer than those growing up in London or New York, NATO\\'s top civilian envoy says.\\n\\nMark Sedwill, the senior civilian representative for NATO, made the comments on an episode of CBBC\\'s \"Newsround,\" which is airing Monday.\\n\\nIn the show -- a BBC current-affairs program for children -- several youngsters in Kabul, Afghanistan, say they are afraid of daily violence and the frequent explosions in their war-torn country.\\n\\nIn response, Sedwill says: \"Here in Kabul, and other big cities actually, there are very few of these bombs. The children are probably safer here than they would be in London, New York or Glasgow or many other cities.\\n\\n\"Most children can go about their lives in safety. It\\'s a very family-oriented society. So it is a little bit like a city of villages,\" he added.\\n\\nA U.N. report released earlier this year seems to contradict Sedwill\\'s assessment.\\n\\nThe February report, by the special representative for children and armed conflict, says that children in Afghanistan are increasingly the victims of roadside attacks, crossfire between militants and international forces, and air strikes.\\n\\nIn addition, they have been used as human shields and recruited as suicide bombers.\\n\\nThe report also said boys are sexually abused and exploited by armed groups and girls schools have been burned down.\\n\\nEarlier this year, there was a rash of poisonings involving schoolgirls, and several instances of acid attacks have been reported.\\n\\nOn Monday, Sedwill elaborated on what he meant in his remark.\\n\\n\"Any comment you have to clarify obviously wasn\\'t very well put and the comparison I made with western cities distracted attention from the important point I was seeking to make,\" he said.\\n\\n\"I was trying to explain to an audience of British children how uneven violence is across Afghanistan. Half the insurgent violence takes place in 10 of the 365 districts, and, in those places, children are too often the victims of IEDs and other dangers. But, in cities like Kabul where security has improved, the total levels of violence, including criminal violence, are comparable to those which many western children would experience.\\n\\n\"For most Afghans, the biggest challenges are from poverty -- the absence of clean water, open sewers, malnutrition, disease -- and many more children are at risk from those problems than from the insurgency.\"\\n\\n\\n'"
      ]
     },
     "execution_count": 21,
     "metadata": {},
     "output_type": "execute_result"
    }
   ],
   "source": [
    "article = articles[0]\n",
    "article"
   ]
  },
  {
   "cell_type": "code",
   "execution_count": 25,
   "metadata": {},
   "outputs": [],
   "source": [
    "def get_topic_id_from_topic_name(topic_name):\n",
    "    for key,value in topic_names.items():\n",
    "        if(value == topic_name):\n",
    "            return key"
   ]
  },
  {
   "cell_type": "code",
   "execution_count": null,
   "metadata": {},
   "outputs": [],
   "source": [
    "def get_topics_of_article(article_idx,min_topic_prob=0):\n",
    "    topics = sorted(lda_model.get_document_topics(corpus_bow[article_idx],minimum_probability=min_topic_prob), key=lambda tup: tup[1])[::-1]\n",
    "    final_topics = []\n",
    "    for topic in topics:\n",
    "        final_topics.append([topic_names[topic[0]],topic[1]])\n",
    "    return final_topics"
   ]
  },
  {
   "cell_type": "code",
   "execution_count": 27,
   "metadata": {},
   "outputs": [],
   "source": [
    "column_topics = []\n",
    "column_topic_ids = []\n",
    "column_article_ids = []\n",
    "for i in range(len(articles)):\n",
    "    topic_name = get_topics_of_article(i)[0][0]\n",
    "    column_article_ids.append(i)\n",
    "    column_topics.append(topic_name)\n",
    "    column_topic_ids.append(get_topic_id_from_topic_name(topic_name))"
   ]
  },
  {
   "cell_type": "code",
   "execution_count": 32,
   "metadata": {},
   "outputs": [],
   "source": [
    "df = pd.DataFrame({\n",
    "    \"article_id\": column_article_ids,\n",
    "    \"topic_id\":column_topic_ids,\n",
    "    \"topic_name\":column_topics\n",
    "})"
   ]
  },
  {
   "cell_type": "code",
   "execution_count": 33,
   "metadata": {},
   "outputs": [
    {
     "data": {
      "text/html": [
       "<div>\n",
       "<style scoped>\n",
       "    .dataframe tbody tr th:only-of-type {\n",
       "        vertical-align: middle;\n",
       "    }\n",
       "\n",
       "    .dataframe tbody tr th {\n",
       "        vertical-align: top;\n",
       "    }\n",
       "\n",
       "    .dataframe thead th {\n",
       "        text-align: right;\n",
       "    }\n",
       "</style>\n",
       "<table border=\"1\" class=\"dataframe\">\n",
       "  <thead>\n",
       "    <tr style=\"text-align: right;\">\n",
       "      <th></th>\n",
       "      <th>article_id</th>\n",
       "      <th>topic_id</th>\n",
       "      <th>topic_name</th>\n",
       "    </tr>\n",
       "  </thead>\n",
       "  <tbody>\n",
       "    <tr>\n",
       "      <th>0</th>\n",
       "      <td>0</td>\n",
       "      <td>8</td>\n",
       "      <td>War &amp; Terrorism</td>\n",
       "    </tr>\n",
       "    <tr>\n",
       "      <th>1</th>\n",
       "      <td>1</td>\n",
       "      <td>10</td>\n",
       "      <td>Economy &amp; Business</td>\n",
       "    </tr>\n",
       "    <tr>\n",
       "      <th>2</th>\n",
       "      <td>2</td>\n",
       "      <td>2</td>\n",
       "      <td>Environmental &amp; Natural Disasters</td>\n",
       "    </tr>\n",
       "    <tr>\n",
       "      <th>3</th>\n",
       "      <td>3</td>\n",
       "      <td>14</td>\n",
       "      <td>Law &amp; Legal Issues</td>\n",
       "    </tr>\n",
       "    <tr>\n",
       "      <th>4</th>\n",
       "      <td>4</td>\n",
       "      <td>17</td>\n",
       "      <td>Social Movements &amp; Protests</td>\n",
       "    </tr>\n",
       "    <tr>\n",
       "      <th>...</th>\n",
       "      <td>...</td>\n",
       "      <td>...</td>\n",
       "      <td>...</td>\n",
       "    </tr>\n",
       "    <tr>\n",
       "      <th>111420</th>\n",
       "      <td>111420</td>\n",
       "      <td>16</td>\n",
       "      <td>Healthcare &amp; Medicine</td>\n",
       "    </tr>\n",
       "    <tr>\n",
       "      <th>111421</th>\n",
       "      <td>111421</td>\n",
       "      <td>13</td>\n",
       "      <td>Art &amp; Aesthetics</td>\n",
       "    </tr>\n",
       "    <tr>\n",
       "      <th>111422</th>\n",
       "      <td>111422</td>\n",
       "      <td>13</td>\n",
       "      <td>Art &amp; Aesthetics</td>\n",
       "    </tr>\n",
       "    <tr>\n",
       "      <th>111423</th>\n",
       "      <td>111423</td>\n",
       "      <td>5</td>\n",
       "      <td>Thoughts &amp; Opinions</td>\n",
       "    </tr>\n",
       "    <tr>\n",
       "      <th>111424</th>\n",
       "      <td>111424</td>\n",
       "      <td>5</td>\n",
       "      <td>Thoughts &amp; Opinions</td>\n",
       "    </tr>\n",
       "  </tbody>\n",
       "</table>\n",
       "<p>111425 rows × 3 columns</p>\n",
       "</div>"
      ],
      "text/plain": [
       "        article_id  topic_id                         topic_name\n",
       "0                0         8                    War & Terrorism\n",
       "1                1        10                 Economy & Business\n",
       "2                2         2  Environmental & Natural Disasters\n",
       "3                3        14                 Law & Legal Issues\n",
       "4                4        17        Social Movements & Protests\n",
       "...            ...       ...                                ...\n",
       "111420      111420        16              Healthcare & Medicine\n",
       "111421      111421        13                   Art & Aesthetics\n",
       "111422      111422        13                   Art & Aesthetics\n",
       "111423      111423         5                Thoughts & Opinions\n",
       "111424      111424         5                Thoughts & Opinions\n",
       "\n",
       "[111425 rows x 3 columns]"
      ]
     },
     "execution_count": 33,
     "metadata": {},
     "output_type": "execute_result"
    }
   ],
   "source": [
    "df"
   ]
  },
  {
   "cell_type": "code",
   "execution_count": null,
   "metadata": {},
   "outputs": [],
   "source": [
    "df.to_csv(\"output_labelled_dataset.csv\",index=False)"
   ]
  }
 ],
 "metadata": {
  "kernelspec": {
   "display_name": "nlp_demy",
   "language": "python",
   "name": "python3"
  },
  "language_info": {
   "codemirror_mode": {
    "name": "ipython",
    "version": 3
   },
   "file_extension": ".py",
   "mimetype": "text/x-python",
   "name": "python",
   "nbconvert_exporter": "python",
   "pygments_lexer": "ipython3",
   "version": "3.10.15"
  }
 },
 "nbformat": 4,
 "nbformat_minor": 2
}
